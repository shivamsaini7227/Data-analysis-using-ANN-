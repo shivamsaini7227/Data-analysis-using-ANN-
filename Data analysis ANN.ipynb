{
  "nbformat": 4,
  "nbformat_minor": 0,
  "metadata": {
    "colab": {
      "provenance": []
    },
    "kernelspec": {
      "name": "python3",
      "display_name": "Python 3"
    },
    "language_info": {
      "name": "python"
    }
  },
  "cells": [
    {
      "cell_type": "code",
      "execution_count": 1,
      "metadata": {
        "id": "k8UtMBcUuKDg"
      },
      "outputs": [],
      "source": [
        "import numpy as np\n",
        "import pandas as pd\n",
        "import tensorflow as tf"
      ]
    },
    {
      "cell_type": "code",
      "source": [
        "#preprocessing of data\n",
        "df=pd.read_csv(\"Churn_Modelling.csv\")\n",
        "x=df.iloc[:,3:-1].values #Taking colums from credit score to the second last column\n",
        "y=df.iloc[:,-1].values"
      ],
      "metadata": {
        "id": "u5LCtoUEueaQ"
      },
      "execution_count": 3,
      "outputs": []
    },
    {
      "cell_type": "code",
      "source": [
        "print(x)"
      ],
      "metadata": {
        "colab": {
          "base_uri": "https://localhost:8080/"
        },
        "id": "EwQuUp_1wNjN",
        "outputId": "e93cb089-737c-4c99-e79a-cc03ed1d8e0d"
      },
      "execution_count": 6,
      "outputs": [
        {
          "output_type": "stream",
          "name": "stdout",
          "text": [
            "[[619 'France' 'Female' ... 1 1 101348.88]\n",
            " [608 'Spain' 'Female' ... 0 1 112542.58]\n",
            " [502 'France' 'Female' ... 1 0 113931.57]\n",
            " ...\n",
            " [709 'France' 'Female' ... 0 1 42085.58]\n",
            " [772 'Germany' 'Male' ... 1 0 92888.52]\n",
            " [792 'France' 'Female' ... 1 0 38190.78]]\n"
          ]
        }
      ]
    },
    {
      "cell_type": "code",
      "source": [
        "print(y)"
      ],
      "metadata": {
        "colab": {
          "base_uri": "https://localhost:8080/"
        },
        "id": "9xSAJdeIw4xa",
        "outputId": "fa051c3f-a95e-4994-ab0a-351ac1e21911"
      },
      "execution_count": 7,
      "outputs": [
        {
          "output_type": "stream",
          "name": "stdout",
          "text": [
            "[1 0 1 ... 1 1 0]\n"
          ]
        }
      ]
    },
    {
      "cell_type": "code",
      "source": [
        "#labelling of data\n",
        "from sklearn.preprocessing import LabelEncoder\n",
        "le=LabelEncoder()\n",
        "x[:, 2] = le.fit_transform(x[:, 2])   #encoding the gender column\n",
        "print(x)"
      ],
      "metadata": {
        "colab": {
          "base_uri": "https://localhost:8080/"
        },
        "id": "xWt5Gnq--BNV",
        "outputId": "a1be10ab-81fe-4e5b-d94b-5f0138592093"
      },
      "execution_count": 9,
      "outputs": [
        {
          "output_type": "stream",
          "name": "stdout",
          "text": [
            "[[619 'France' 0 ... 1 1 101348.88]\n",
            " [608 'Spain' 0 ... 0 1 112542.58]\n",
            " [502 'France' 0 ... 1 0 113931.57]\n",
            " ...\n",
            " [709 'France' 0 ... 0 1 42085.58]\n",
            " [772 'Germany' 1 ... 1 0 92888.52]\n",
            " [792 'France' 0 ... 1 0 38190.78]]\n"
          ]
        }
      ]
    },
    {
      "cell_type": "code",
      "source": [
        "#On hot encoding : This will change the alphabetical data into numeric data , which is easily understandable by machine\n",
        "from sklearn.preprocessing import OneHotEncoder\n",
        "from sklearn.compose import ColumnTransformer\n",
        "ct=ColumnTransformer(transformers=[('encoder', OneHotEncoder(), [1])], remainder='passthrough') #changing the country column\n",
        "x=np.array(ct.fit_transform(x))\n",
        "print(x)"
      ],
      "metadata": {
        "colab": {
          "base_uri": "https://localhost:8080/"
        },
        "id": "d98cvlga-4iX",
        "outputId": "d13e279a-4cb8-495b-8139-aa142cd6e2dc"
      },
      "execution_count": 11,
      "outputs": [
        {
          "output_type": "stream",
          "name": "stdout",
          "text": [
            "[[1.0 0.0 1.0 ... 1 1 101348.88]\n",
            " [1.0 0.0 0.0 ... 0 1 112542.58]\n",
            " [1.0 0.0 1.0 ... 1 0 113931.57]\n",
            " ...\n",
            " [1.0 0.0 1.0 ... 0 1 42085.58]\n",
            " [0.0 1.0 0.0 ... 1 0 92888.52]\n",
            " [1.0 0.0 1.0 ... 1 0 38190.78]]\n"
          ]
        }
      ]
    },
    {
      "cell_type": "code",
      "source": [
        "#splitting the data into training and test dataset\n",
        "from sklearn.model_selection import train_test_split\n",
        "x_train,x_test,y_train,y_test= train_test_split(x, y, test_size = 0.2, random_state = 0) #20% for test case\n"
      ],
      "metadata": {
        "id": "vFvwszL9ACYA"
      },
      "execution_count": 13,
      "outputs": []
    },
    {
      "cell_type": "code",
      "source": [
        "#feature scaling\n",
        "from sklearn.preprocessing import StandardScaler\n",
        "sc=StandardScaler()\n",
        "x_train = sc.fit_transform(x_train)\n",
        "x_test = sc.transform(x_test)"
      ],
      "metadata": {
        "id": "iBB1lx7BDays"
      },
      "execution_count": 15,
      "outputs": []
    },
    {
      "cell_type": "code",
      "source": [
        "#ANN modelling\n",
        "ann = tf.keras.models.Sequential()"
      ],
      "metadata": {
        "id": "B8mdNsEGFPNC"
      },
      "execution_count": 16,
      "outputs": []
    },
    {
      "cell_type": "code",
      "source": [
        "#Adding input layer\n",
        "ann.add(tf.keras.layers.Dense(units=6, activation='relu'))\n",
        "#Adding 2nd hidden layer\n",
        "ann.add(tf.keras.layers.Dense(units=6, activation='relu'))"
      ],
      "metadata": {
        "id": "OS_wd4f-IisD"
      },
      "execution_count": 17,
      "outputs": []
    },
    {
      "cell_type": "code",
      "source": [
        "#Output value\n",
        "ann.add(tf.keras.layers.Dense(units=1, activation='sigmoid')) #sigmoid will change all the values bw 0 to1\n"
      ],
      "metadata": {
        "id": "MKkqKwN0I3sr"
      },
      "execution_count": 18,
      "outputs": []
    },
    {
      "cell_type": "markdown",
      "source": [
        "Compiling the ANN\n"
      ],
      "metadata": {
        "id": "tDWZZpqlKnBp"
      }
    },
    {
      "cell_type": "code",
      "source": [
        "ann.compile(optimizer = 'adam', loss = 'binary_crossentropy', metrics = ['accuracy'])"
      ],
      "metadata": {
        "id": "8-lNl-3jKmb7"
      },
      "execution_count": 19,
      "outputs": []
    },
    {
      "cell_type": "code",
      "source": [
        "ann.fit(x_train,y_train,batch_size=5,epochs=50)"
      ],
      "metadata": {
        "colab": {
          "base_uri": "https://localhost:8080/"
        },
        "id": "_QMNqmu1KyX1",
        "outputId": "ebc433c1-1134-45e0-cd1a-44177fc25d35"
      },
      "execution_count": 21,
      "outputs": [
        {
          "output_type": "stream",
          "name": "stdout",
          "text": [
            "Epoch 1/50\n",
            "1600/1600 [==============================] - 5s 3ms/step - loss: 0.3458 - accuracy: 0.8580\n",
            "Epoch 2/50\n",
            "1600/1600 [==============================] - 6s 4ms/step - loss: 0.3449 - accuracy: 0.8591\n",
            "Epoch 3/50\n",
            "1600/1600 [==============================] - 5s 3ms/step - loss: 0.3435 - accuracy: 0.8572\n",
            "Epoch 4/50\n",
            "1600/1600 [==============================] - 9s 6ms/step - loss: 0.3420 - accuracy: 0.8602\n",
            "Epoch 5/50\n",
            "1600/1600 [==============================] - 3s 2ms/step - loss: 0.3413 - accuracy: 0.8622\n",
            "Epoch 6/50\n",
            "1600/1600 [==============================] - 3s 2ms/step - loss: 0.3410 - accuracy: 0.8615\n",
            "Epoch 7/50\n",
            "1600/1600 [==============================] - 3s 2ms/step - loss: 0.3402 - accuracy: 0.8637\n",
            "Epoch 8/50\n",
            "1600/1600 [==============================] - 4s 2ms/step - loss: 0.3400 - accuracy: 0.8620\n",
            "Epoch 9/50\n",
            "1600/1600 [==============================] - 3s 2ms/step - loss: 0.3400 - accuracy: 0.8605\n",
            "Epoch 10/50\n",
            "1600/1600 [==============================] - 3s 2ms/step - loss: 0.3391 - accuracy: 0.8612\n",
            "Epoch 11/50\n",
            "1600/1600 [==============================] - 3s 2ms/step - loss: 0.3395 - accuracy: 0.8608\n",
            "Epoch 12/50\n",
            "1600/1600 [==============================] - 4s 2ms/step - loss: 0.3388 - accuracy: 0.8625\n",
            "Epoch 13/50\n",
            "1600/1600 [==============================] - 3s 2ms/step - loss: 0.3386 - accuracy: 0.8618\n",
            "Epoch 14/50\n",
            "1600/1600 [==============================] - 3s 2ms/step - loss: 0.3386 - accuracy: 0.8614\n",
            "Epoch 15/50\n",
            "1600/1600 [==============================] - 3s 2ms/step - loss: 0.3379 - accuracy: 0.8627\n",
            "Epoch 16/50\n",
            "1600/1600 [==============================] - 3s 2ms/step - loss: 0.3381 - accuracy: 0.8629\n",
            "Epoch 17/50\n",
            "1600/1600 [==============================] - 3s 2ms/step - loss: 0.3376 - accuracy: 0.8616\n",
            "Epoch 18/50\n",
            "1600/1600 [==============================] - 3s 2ms/step - loss: 0.3375 - accuracy: 0.8618\n",
            "Epoch 19/50\n",
            "1600/1600 [==============================] - 3s 2ms/step - loss: 0.3375 - accuracy: 0.8597\n",
            "Epoch 20/50\n",
            "1600/1600 [==============================] - 4s 3ms/step - loss: 0.3375 - accuracy: 0.8609\n",
            "Epoch 21/50\n",
            "1600/1600 [==============================] - 3s 2ms/step - loss: 0.3366 - accuracy: 0.8627\n",
            "Epoch 22/50\n",
            "1600/1600 [==============================] - 3s 2ms/step - loss: 0.3369 - accuracy: 0.8650\n",
            "Epoch 23/50\n",
            "1600/1600 [==============================] - 3s 2ms/step - loss: 0.3370 - accuracy: 0.8610\n",
            "Epoch 24/50\n",
            "1600/1600 [==============================] - 3s 2ms/step - loss: 0.3363 - accuracy: 0.8633\n",
            "Epoch 25/50\n",
            "1600/1600 [==============================] - 4s 2ms/step - loss: 0.3361 - accuracy: 0.8624\n",
            "Epoch 26/50\n",
            "1600/1600 [==============================] - 3s 2ms/step - loss: 0.3364 - accuracy: 0.8620\n",
            "Epoch 27/50\n",
            "1600/1600 [==============================] - 3s 2ms/step - loss: 0.3363 - accuracy: 0.8639\n",
            "Epoch 28/50\n",
            "1600/1600 [==============================] - 3s 2ms/step - loss: 0.3364 - accuracy: 0.8615\n",
            "Epoch 29/50\n",
            "1600/1600 [==============================] - 4s 2ms/step - loss: 0.3367 - accuracy: 0.8622\n",
            "Epoch 30/50\n",
            "1600/1600 [==============================] - 3s 2ms/step - loss: 0.3352 - accuracy: 0.8626\n",
            "Epoch 31/50\n",
            "1600/1600 [==============================] - 3s 2ms/step - loss: 0.3361 - accuracy: 0.8608\n",
            "Epoch 32/50\n",
            "1600/1600 [==============================] - 3s 2ms/step - loss: 0.3361 - accuracy: 0.8633\n",
            "Epoch 33/50\n",
            "1600/1600 [==============================] - 4s 2ms/step - loss: 0.3365 - accuracy: 0.8612\n",
            "Epoch 34/50\n",
            "1600/1600 [==============================] - 3s 2ms/step - loss: 0.3355 - accuracy: 0.8634\n",
            "Epoch 35/50\n",
            "1600/1600 [==============================] - 3s 2ms/step - loss: 0.3358 - accuracy: 0.8602\n",
            "Epoch 36/50\n",
            "1600/1600 [==============================] - 3s 2ms/step - loss: 0.3360 - accuracy: 0.8631\n",
            "Epoch 37/50\n",
            "1600/1600 [==============================] - 3s 2ms/step - loss: 0.3353 - accuracy: 0.8629\n",
            "Epoch 38/50\n",
            "1600/1600 [==============================] - 3s 2ms/step - loss: 0.3356 - accuracy: 0.8618\n",
            "Epoch 39/50\n",
            "1600/1600 [==============================] - 3s 2ms/step - loss: 0.3354 - accuracy: 0.8634\n",
            "Epoch 40/50\n",
            "1600/1600 [==============================] - 3s 2ms/step - loss: 0.3358 - accuracy: 0.8651\n",
            "Epoch 41/50\n",
            "1600/1600 [==============================] - 3s 2ms/step - loss: 0.3350 - accuracy: 0.8624\n",
            "Epoch 42/50\n",
            "1600/1600 [==============================] - 3s 2ms/step - loss: 0.3351 - accuracy: 0.8629\n",
            "Epoch 43/50\n",
            "1600/1600 [==============================] - 3s 2ms/step - loss: 0.3352 - accuracy: 0.8622\n",
            "Epoch 44/50\n",
            "1600/1600 [==============================] - 3s 2ms/step - loss: 0.3349 - accuracy: 0.8634\n",
            "Epoch 45/50\n",
            "1600/1600 [==============================] - 3s 2ms/step - loss: 0.3355 - accuracy: 0.8622\n",
            "Epoch 46/50\n",
            "1600/1600 [==============================] - 3s 2ms/step - loss: 0.3348 - accuracy: 0.8616\n",
            "Epoch 47/50\n",
            "1600/1600 [==============================] - 3s 2ms/step - loss: 0.3353 - accuracy: 0.8633\n",
            "Epoch 48/50\n",
            "1600/1600 [==============================] - 3s 2ms/step - loss: 0.3343 - accuracy: 0.8634\n",
            "Epoch 49/50\n",
            "1600/1600 [==============================] - 3s 2ms/step - loss: 0.3349 - accuracy: 0.8631\n",
            "Epoch 50/50\n",
            "1600/1600 [==============================] - 4s 2ms/step - loss: 0.3344 - accuracy: 0.8635\n"
          ]
        },
        {
          "output_type": "execute_result",
          "data": {
            "text/plain": [
              "<keras.src.callbacks.History at 0x7b3de9ea36a0>"
            ]
          },
          "metadata": {},
          "execution_count": 21
        }
      ]
    },
    {
      "cell_type": "code",
      "source": [
        "#predicting that a customer will stay or go:\n",
        "print(ann.predict(sc.transform([[1, 0, 1, 600, 1, 40, 3, 60000, 2, 1, 1, 50000]])) > 0.5)\n",
        "#we put all the vlues of different columns and get the probabalilty , if prob >0.5 then it is true"
      ],
      "metadata": {
        "colab": {
          "base_uri": "https://localhost:8080/",
          "height": 321
        },
        "id": "CXEN4EuGM7kj",
        "outputId": "88b11979-249c-4702-e8c9-75c995344784"
      },
      "execution_count": 25,
      "outputs": [
        {
          "output_type": "error",
          "ename": "ValueError",
          "evalue": "X has 12 features, but StandardScaler is expecting 13 features as input.",
          "traceback": [
            "\u001b[0;31m---------------------------------------------------------------------------\u001b[0m",
            "\u001b[0;31mValueError\u001b[0m                                Traceback (most recent call last)",
            "\u001b[0;32m<ipython-input-25-5d8d00a25f4e>\u001b[0m in \u001b[0;36m<cell line: 2>\u001b[0;34m()\u001b[0m\n\u001b[1;32m      1\u001b[0m \u001b[0;31m#predicting that a customer will stay or go:\u001b[0m\u001b[0;34m\u001b[0m\u001b[0;34m\u001b[0m\u001b[0m\n\u001b[0;32m----> 2\u001b[0;31m \u001b[0mprint\u001b[0m\u001b[0;34m(\u001b[0m\u001b[0mann\u001b[0m\u001b[0;34m.\u001b[0m\u001b[0mpredict\u001b[0m\u001b[0;34m(\u001b[0m\u001b[0msc\u001b[0m\u001b[0;34m.\u001b[0m\u001b[0mtransform\u001b[0m\u001b[0;34m(\u001b[0m\u001b[0;34m[\u001b[0m\u001b[0;34m[\u001b[0m\u001b[0;36m1\u001b[0m\u001b[0;34m,\u001b[0m \u001b[0;36m0\u001b[0m\u001b[0;34m,\u001b[0m \u001b[0;36m0\u001b[0m\u001b[0;34m,\u001b[0m \u001b[0;36m600\u001b[0m\u001b[0;34m,\u001b[0m \u001b[0;36m1\u001b[0m\u001b[0;34m,\u001b[0m \u001b[0;36m40\u001b[0m\u001b[0;34m,\u001b[0m \u001b[0;36m3\u001b[0m\u001b[0;34m,\u001b[0m \u001b[0;36m60000\u001b[0m\u001b[0;34m,\u001b[0m \u001b[0;36m2\u001b[0m\u001b[0;34m,\u001b[0m \u001b[0;36m1\u001b[0m\u001b[0;34m,\u001b[0m \u001b[0;36m1\u001b[0m\u001b[0;34m,\u001b[0m \u001b[0;36m50000\u001b[0m\u001b[0;34m]\u001b[0m\u001b[0;34m]\u001b[0m\u001b[0;34m)\u001b[0m\u001b[0;34m)\u001b[0m \u001b[0;34m>\u001b[0m \u001b[0;36m0.5\u001b[0m\u001b[0;34m)\u001b[0m\u001b[0;34m\u001b[0m\u001b[0;34m\u001b[0m\u001b[0m\n\u001b[0m\u001b[1;32m      3\u001b[0m \u001b[0;31m#we put all the vlues of different columns and get the probabalilty , if prob >0.5 then it is true\u001b[0m\u001b[0;34m\u001b[0m\u001b[0;34m\u001b[0m\u001b[0m\n",
            "\u001b[0;32m/usr/local/lib/python3.10/dist-packages/sklearn/utils/_set_output.py\u001b[0m in \u001b[0;36mwrapped\u001b[0;34m(self, X, *args, **kwargs)\u001b[0m\n\u001b[1;32m    138\u001b[0m     \u001b[0;34m@\u001b[0m\u001b[0mwraps\u001b[0m\u001b[0;34m(\u001b[0m\u001b[0mf\u001b[0m\u001b[0;34m)\u001b[0m\u001b[0;34m\u001b[0m\u001b[0;34m\u001b[0m\u001b[0m\n\u001b[1;32m    139\u001b[0m     \u001b[0;32mdef\u001b[0m \u001b[0mwrapped\u001b[0m\u001b[0;34m(\u001b[0m\u001b[0mself\u001b[0m\u001b[0;34m,\u001b[0m \u001b[0mX\u001b[0m\u001b[0;34m,\u001b[0m \u001b[0;34m*\u001b[0m\u001b[0margs\u001b[0m\u001b[0;34m,\u001b[0m \u001b[0;34m**\u001b[0m\u001b[0mkwargs\u001b[0m\u001b[0;34m)\u001b[0m\u001b[0;34m:\u001b[0m\u001b[0;34m\u001b[0m\u001b[0;34m\u001b[0m\u001b[0m\n\u001b[0;32m--> 140\u001b[0;31m         \u001b[0mdata_to_wrap\u001b[0m \u001b[0;34m=\u001b[0m \u001b[0mf\u001b[0m\u001b[0;34m(\u001b[0m\u001b[0mself\u001b[0m\u001b[0;34m,\u001b[0m \u001b[0mX\u001b[0m\u001b[0;34m,\u001b[0m \u001b[0;34m*\u001b[0m\u001b[0margs\u001b[0m\u001b[0;34m,\u001b[0m \u001b[0;34m**\u001b[0m\u001b[0mkwargs\u001b[0m\u001b[0;34m)\u001b[0m\u001b[0;34m\u001b[0m\u001b[0;34m\u001b[0m\u001b[0m\n\u001b[0m\u001b[1;32m    141\u001b[0m         \u001b[0;32mif\u001b[0m \u001b[0misinstance\u001b[0m\u001b[0;34m(\u001b[0m\u001b[0mdata_to_wrap\u001b[0m\u001b[0;34m,\u001b[0m \u001b[0mtuple\u001b[0m\u001b[0;34m)\u001b[0m\u001b[0;34m:\u001b[0m\u001b[0;34m\u001b[0m\u001b[0;34m\u001b[0m\u001b[0m\n\u001b[1;32m    142\u001b[0m             \u001b[0;31m# only wrap the first output for cross decomposition\u001b[0m\u001b[0;34m\u001b[0m\u001b[0;34m\u001b[0m\u001b[0m\n",
            "\u001b[0;32m/usr/local/lib/python3.10/dist-packages/sklearn/preprocessing/_data.py\u001b[0m in \u001b[0;36mtransform\u001b[0;34m(self, X, copy)\u001b[0m\n\u001b[1;32m    990\u001b[0m \u001b[0;34m\u001b[0m\u001b[0m\n\u001b[1;32m    991\u001b[0m         \u001b[0mcopy\u001b[0m \u001b[0;34m=\u001b[0m \u001b[0mcopy\u001b[0m \u001b[0;32mif\u001b[0m \u001b[0mcopy\u001b[0m \u001b[0;32mis\u001b[0m \u001b[0;32mnot\u001b[0m \u001b[0;32mNone\u001b[0m \u001b[0;32melse\u001b[0m \u001b[0mself\u001b[0m\u001b[0;34m.\u001b[0m\u001b[0mcopy\u001b[0m\u001b[0;34m\u001b[0m\u001b[0;34m\u001b[0m\u001b[0m\n\u001b[0;32m--> 992\u001b[0;31m         X = self._validate_data(\n\u001b[0m\u001b[1;32m    993\u001b[0m             \u001b[0mX\u001b[0m\u001b[0;34m,\u001b[0m\u001b[0;34m\u001b[0m\u001b[0;34m\u001b[0m\u001b[0m\n\u001b[1;32m    994\u001b[0m             \u001b[0mreset\u001b[0m\u001b[0;34m=\u001b[0m\u001b[0;32mFalse\u001b[0m\u001b[0;34m,\u001b[0m\u001b[0;34m\u001b[0m\u001b[0;34m\u001b[0m\u001b[0m\n",
            "\u001b[0;32m/usr/local/lib/python3.10/dist-packages/sklearn/base.py\u001b[0m in \u001b[0;36m_validate_data\u001b[0;34m(self, X, y, reset, validate_separately, **check_params)\u001b[0m\n\u001b[1;32m    586\u001b[0m \u001b[0;34m\u001b[0m\u001b[0m\n\u001b[1;32m    587\u001b[0m         \u001b[0;32mif\u001b[0m \u001b[0;32mnot\u001b[0m \u001b[0mno_val_X\u001b[0m \u001b[0;32mand\u001b[0m \u001b[0mcheck_params\u001b[0m\u001b[0;34m.\u001b[0m\u001b[0mget\u001b[0m\u001b[0;34m(\u001b[0m\u001b[0;34m\"ensure_2d\"\u001b[0m\u001b[0;34m,\u001b[0m \u001b[0;32mTrue\u001b[0m\u001b[0;34m)\u001b[0m\u001b[0;34m:\u001b[0m\u001b[0;34m\u001b[0m\u001b[0;34m\u001b[0m\u001b[0m\n\u001b[0;32m--> 588\u001b[0;31m             \u001b[0mself\u001b[0m\u001b[0;34m.\u001b[0m\u001b[0m_check_n_features\u001b[0m\u001b[0;34m(\u001b[0m\u001b[0mX\u001b[0m\u001b[0;34m,\u001b[0m \u001b[0mreset\u001b[0m\u001b[0;34m=\u001b[0m\u001b[0mreset\u001b[0m\u001b[0;34m)\u001b[0m\u001b[0;34m\u001b[0m\u001b[0;34m\u001b[0m\u001b[0m\n\u001b[0m\u001b[1;32m    589\u001b[0m \u001b[0;34m\u001b[0m\u001b[0m\n\u001b[1;32m    590\u001b[0m         \u001b[0;32mreturn\u001b[0m \u001b[0mout\u001b[0m\u001b[0;34m\u001b[0m\u001b[0;34m\u001b[0m\u001b[0m\n",
            "\u001b[0;32m/usr/local/lib/python3.10/dist-packages/sklearn/base.py\u001b[0m in \u001b[0;36m_check_n_features\u001b[0;34m(self, X, reset)\u001b[0m\n\u001b[1;32m    387\u001b[0m \u001b[0;34m\u001b[0m\u001b[0m\n\u001b[1;32m    388\u001b[0m         \u001b[0;32mif\u001b[0m \u001b[0mn_features\u001b[0m \u001b[0;34m!=\u001b[0m \u001b[0mself\u001b[0m\u001b[0;34m.\u001b[0m\u001b[0mn_features_in_\u001b[0m\u001b[0;34m:\u001b[0m\u001b[0;34m\u001b[0m\u001b[0;34m\u001b[0m\u001b[0m\n\u001b[0;32m--> 389\u001b[0;31m             raise ValueError(\n\u001b[0m\u001b[1;32m    390\u001b[0m                 \u001b[0;34mf\"X has {n_features} features, but {self.__class__.__name__} \"\u001b[0m\u001b[0;34m\u001b[0m\u001b[0;34m\u001b[0m\u001b[0m\n\u001b[1;32m    391\u001b[0m                 \u001b[0;34mf\"is expecting {self.n_features_in_} features as input.\"\u001b[0m\u001b[0;34m\u001b[0m\u001b[0;34m\u001b[0m\u001b[0m\n",
            "\u001b[0;31mValueError\u001b[0m: X has 12 features, but StandardScaler is expecting 13 features as input."
          ]
        }
      ]
    }
  ]
}